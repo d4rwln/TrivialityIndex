{
 "cells": [
  {
   "cell_type": "markdown",
   "metadata": {},
   "source": [
    "# Notebook que faz merge entre features issues,cs e email."
   ]
  },
  {
   "cell_type": "code",
   "execution_count": 38,
   "metadata": {},
   "outputs": [],
   "source": [
    "import pandas as pd\n",
    "import numpy as np\n",
    "\n",
    "\n",
    "dataset='eclipse'\n",
    "# 1. Ler o arquivo CSV contendo o dataset\n",
    "df_input1 = pd.read_csv(f'./3_output_merge/{dataset}/datasetClass_with_foc.csv')\n",
    "df_input2 = pd.read_csv(f'./3_output_merge/{dataset}/datasetMethod_with_foc.csv')\n",
    "\n",
    "# 2. Abrir o outro arquivo CSV com as colunas 'commit', 'feature1' e 'feature2'\n",
    "df_pmd_cs = pd.read_csv(f'./4_output_pmd/{dataset}_cs_pmd.csv')\n",
    "df_pmd_issues = pd.read_csv(f'./4_output_pmd/{dataset}_issues_pmd.csv')\n",
    "\n",
    "# 3. Unir os dois dataframes com base na coluna 'commit'\n",
    "# df_final = pd.merge(df1, df2, on='commit', how='left')\n",
    "\n",
    "# 4. Salvar o dataframe resultante como um novo arquivo CSV\n",
    "# df_final.to_csv('new_arquivo_entrada.csv', index=False)"
   ]
  },
  {
   "cell_type": "code",
   "execution_count": 39,
   "metadata": {},
   "outputs": [
    {
     "data": {
      "text/plain": [
       "((44605, 60), (360918, 42), (2370, 3), (2370, 3))"
      ]
     },
     "execution_count": 39,
     "metadata": {},
     "output_type": "execute_result"
    }
   ],
   "source": [
    "df_input1.shape, df_input2.shape, df_pmd_cs.shape, df_pmd_issues.shape"
   ]
  },
  {
   "cell_type": "code",
   "execution_count": 40,
   "metadata": {},
   "outputs": [
    {
     "data": {
      "text/plain": [
       "(44605, 66)"
      ]
     },
     "execution_count": 40,
     "metadata": {},
     "output_type": "execute_result"
    }
   ],
   "source": [
    "#adicionando as colunas cs e issues NO datasetClass\n",
    "\n",
    "merge1 = pd.merge(df_input1, df_pmd_cs, on='commit', how='left')\n",
    "merge1 = pd.merge(merge1, df_pmd_issues, on='commit', how='left')\n",
    "merge1['cs'] = np.where(merge1['refactored'] == 1, merge1['cs_after'], merge1['cs_before'])\n",
    "merge1['issues'] = np.where(merge1['refactored'] == 1, merge1['issues_after'], merge1['issues_before'])\n",
    "\n",
    "merge1.shape"
   ]
  },
  {
   "cell_type": "code",
   "execution_count": 41,
   "metadata": {},
   "outputs": [
    {
     "data": {
      "text/plain": [
       "(360918, 48)"
      ]
     },
     "execution_count": 41,
     "metadata": {},
     "output_type": "execute_result"
    }
   ],
   "source": [
    "#adicionando as colunas cs e issues NO datasetMethod\n",
    "\n",
    "merge2 = pd.merge(df_input2, df_pmd_cs, on='commit', how='left')\n",
    "merge2 = pd.merge(merge2, df_pmd_issues, on='commit', how='left')\n",
    "merge2['cs'] = np.where(merge2['refactored'] == 1, merge2['cs_after'], merge2['cs_before'])\n",
    "merge2['issues'] = np.where(merge2['refactored'] == 1, merge2['issues_after'], merge2['issues_before'])\n",
    "\n",
    "merge2.shape\n"
   ]
  },
  {
   "cell_type": "code",
   "execution_count": 42,
   "metadata": {},
   "outputs": [
    {
     "data": {
      "text/plain": [
       "8014"
      ]
     },
     "execution_count": 42,
     "metadata": {},
     "output_type": "execute_result"
    }
   ],
   "source": [
    "import json\n",
    "\n",
    "\n",
    "with open(f'./2_output_apiGithub/metrics2-{dataset}.json', 'r') as file:\n",
    "    data = json.load(file)\n",
    "\n",
    "# Now you can work with the data from the JSON file\n",
    "# For example, you can access specific values using keys\n",
    "devEmails = []\n",
    "\n",
    "for project in data:\n",
    "    if (len(project['metrics']['commitsRefactoringSha']) == 0):\n",
    "        continue\n",
    "    for sha in project['metrics']['commitsRefactoringSha']:\n",
    "        myobj = {}\n",
    "        # myobj['project'] = project['project_name']\n",
    "        myobj['commit'] = sha\n",
    "        devEmails.append(myobj)\n",
    "\n",
    "for commit in devEmails:\n",
    "    for project in data:\n",
    "        if commit['commit'] in project['metrics']['commitsRefactoringSha']:\n",
    "            commit['emails'] = project['metrics']['commitsRefactoringAutor']\n",
    "    \n",
    "for commit in devEmails:\n",
    "    commit['emails'] = set(commit['emails'])\n",
    "    \n",
    "\n",
    "len(devEmails)"
   ]
  },
  {
   "cell_type": "code",
   "execution_count": 43,
   "metadata": {},
   "outputs": [],
   "source": [
    "devEmails_df = pd.DataFrame(devEmails)\n",
    "merge1 = pd.merge(merge1, devEmails_df, on='commit', how='left')\n",
    "merge2 = pd.merge(merge2, devEmails_df, on='commit', how='left')\n"
   ]
  },
  {
   "cell_type": "code",
   "execution_count": 44,
   "metadata": {},
   "outputs": [
    {
     "data": {
      "text/plain": [
       "((45291, 67), (372101, 49))"
      ]
     },
     "execution_count": 44,
     "metadata": {},
     "output_type": "execute_result"
    }
   ],
   "source": [
    "merge1.shape, merge2.shape"
   ]
  },
  {
   "cell_type": "code",
   "execution_count": 45,
   "metadata": {},
   "outputs": [],
   "source": [
    "import os\n",
    "\n",
    "directory = f'./5_output_merge2/{dataset}'\n",
    "if not os.path.exists(directory):\n",
    "    os.makedirs(directory)\n",
    "    \n",
    "merge1.to_csv(f'./5_output_merge2/{dataset}/datasetClass_with_foc_pmd_email.csv', index=False)\n",
    "merge2.to_csv(f'./5_output_merge2/{dataset}/datasetMethod_with_foc_pmd_email.csv', index=False)"
   ]
  },
  {
   "cell_type": "code",
   "execution_count": 46,
   "metadata": {},
   "outputs": [
    {
     "data": {
      "text/plain": [
       "(372101, 49)"
      ]
     },
     "execution_count": 46,
     "metadata": {},
     "output_type": "execute_result"
    }
   ],
   "source": [
    "merge2.shape"
   ]
  }
 ],
 "metadata": {
  "kernelspec": {
   "display_name": "Python 3",
   "language": "python",
   "name": "python3"
  },
  "language_info": {
   "codemirror_mode": {
    "name": "ipython",
    "version": 3
   },
   "file_extension": ".py",
   "mimetype": "text/x-python",
   "name": "python",
   "nbconvert_exporter": "python",
   "pygments_lexer": "ipython3",
   "version": "3.12.1"
  }
 },
 "nbformat": 4,
 "nbformat_minor": 2
}
