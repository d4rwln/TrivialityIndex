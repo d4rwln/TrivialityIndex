{
 "cells": [
  {
   "cell_type": "markdown",
   "metadata": {},
   "source": [
    "### Notebook que faz merge entre features SS, comparando nome do arquivo e commit."
   ]
  },
  {
   "cell_type": "code",
   "execution_count": 37,
   "metadata": {},
   "outputs": [],
   "source": [
    "import pandas as pd\n",
    "import numpy as np\n",
    "import os\n",
    "\n",
    "\n",
    "dataset='apache'\n",
    "# 1. Ler o arquivo CSV contendo o dataset\n",
    "df_input1 = pd.read_csv(f'./5_output_merge2/{dataset}/datasetClass_with_foc_pmd_email.csv')\n",
    "\n",
    "# 2. Abrir o outro arquivo CSV com as colunas 'commit', e 'ss'\n",
    "df_ss = pd.read_csv(f'./7_output_scoreSimiliarity/{dataset}_score.csv')\n"
   ]
  },
  {
   "cell_type": "code",
   "execution_count": 38,
   "metadata": {},
   "outputs": [],
   "source": [
    "df_input1['classMetric_file2']= df_input1['classMetric_file'].apply(lambda x: x.split('\\\\')[-1])\n",
    "df_ss['file2']=df_ss['file'].apply(lambda x: x.split('\\\\')[-1])"
   ]
  },
  {
   "cell_type": "code",
   "execution_count": 39,
   "metadata": {},
   "outputs": [],
   "source": [
    "# Fazendo o merge\n",
    "df_merged = pd.merge(df_input1, df_ss, left_on=['classMetric_file2', 'commit'], right_on=['file2', 'commit'], how='left')"
   ]
  },
  {
   "cell_type": "code",
   "execution_count": 40,
   "metadata": {},
   "outputs": [],
   "source": [
    "directory = f'./8_output_merge3/{dataset}'\n",
    "if not os.path.exists(directory):\n",
    "    os.makedirs(directory)\n",
    "    \n",
    "df_merged.to_csv(f'{directory}/datasetClass_with_foc_pmd_email_ss.csv', index=False)"
   ]
  },
  {
   "cell_type": "code",
   "execution_count": null,
   "metadata": {},
   "outputs": [],
   "source": []
  }
 ],
 "metadata": {
  "kernelspec": {
   "display_name": "Python 3",
   "language": "python",
   "name": "python3"
  },
  "language_info": {
   "codemirror_mode": {
    "name": "ipython",
    "version": 3
   },
   "file_extension": ".py",
   "mimetype": "text/x-python",
   "name": "python",
   "nbconvert_exporter": "python",
   "pygments_lexer": "ipython3",
   "version": "3.12.1"
  }
 },
 "nbformat": 4,
 "nbformat_minor": 2
}
