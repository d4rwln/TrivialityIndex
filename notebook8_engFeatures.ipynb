{
 "cells": [
  {
   "cell_type": "markdown",
   "metadata": {},
   "source": [
    "## 1 IMPORTAÇÃO DOS DADOS"
   ]
  },
  {
   "cell_type": "code",
   "execution_count": 1,
   "metadata": {},
   "outputs": [],
   "source": [
    "import pandas as pd\n",
    "import numpy as nps\n",
    "\n",
    "dataset='random'\n",
    "balancing=''\n",
    "df = pd.read_csv(f'./../4_METRICS/8_output_merge3/{dataset}/datasetClass_with_foc_pmd_email_ss.csv')\n",
    "pd.set_option('display.max_rows', None)\n",
    "pd.set_option('display.max_columns', None)\n",
    "pd.set_option('display.width', None)"
   ]
  },
  {
   "cell_type": "markdown",
   "metadata": {},
   "source": [
    "## 2 PREPROCESSAMENTO DOS DADOS"
   ]
  },
  {
   "cell_type": "markdown",
   "metadata": {},
   "source": [
    "#### 2.1 Dados ausentes ou corrompidos"
   ]
  },
  {
   "cell_type": "markdown",
   "metadata": {},
   "source": [
    "- Atribuir média para NaN ou valores faltosos em classMetric_type"
   ]
  },
  {
   "cell_type": "code",
   "execution_count": 2,
   "metadata": {},
   "outputs": [
    {
     "data": {
      "text/plain": [
       "count    4883.000000\n",
       "mean        0.238298\n",
       "std         0.339564\n",
       "min         0.000000\n",
       "25%         0.000000\n",
       "50%         0.000000\n",
       "75%         0.533333\n",
       "max         1.000000\n",
       "Name: classMetric_lcom*, dtype: float64"
      ]
     },
     "execution_count": 2,
     "metadata": {},
     "output_type": "execute_result"
    }
   ],
   "source": [
    "df['classMetric_lcom*'].describe()"
   ]
  },
  {
   "cell_type": "code",
   "execution_count": 3,
   "metadata": {},
   "outputs": [
    {
     "data": {
      "text/plain": [
       "1037    1.000000\n",
       "3130    1.000000\n",
       "965     1.000000\n",
       "4096    1.000000\n",
       "4087    1.000000\n",
       "1584    1.000000\n",
       "1397    1.000000\n",
       "1255    1.000000\n",
       "1269    1.000000\n",
       "654     1.000000\n",
       "1535    1.000000\n",
       "3122    1.000000\n",
       "657     1.000000\n",
       "1516    1.000000\n",
       "1146    1.000000\n",
       "347     1.000000\n",
       "3123    1.000000\n",
       "1514    1.000000\n",
       "1473    1.000000\n",
       "1291    1.000000\n",
       "3396    1.000000\n",
       "3933    1.000000\n",
       "2403    1.000000\n",
       "3180    1.000000\n",
       "950     1.000000\n",
       "4067    1.000000\n",
       "1461    1.000000\n",
       "1305    1.000000\n",
       "3911    1.000000\n",
       "3913    1.000000\n",
       "3131    1.000000\n",
       "3932    1.000000\n",
       "1319    1.000000\n",
       "1125    1.000000\n",
       "3914    1.000000\n",
       "4070    1.000000\n",
       "1241    1.000000\n",
       "3930    1.000000\n",
       "1762    1.000000\n",
       "3081    0.991803\n",
       "954     0.991525\n",
       "971     0.991525\n",
       "532     0.990196\n",
       "530     0.990000\n",
       "222     0.985760\n",
       "180     0.985760\n",
       "4177    0.983740\n",
       "4165    0.983539\n",
       "285     0.983539\n",
       "301     0.983539\n",
       "Name: classMetric_lcom*, dtype: float64"
      ]
     },
     "execution_count": 3,
     "metadata": {},
     "output_type": "execute_result"
    }
   ],
   "source": [
    "df['classMetric_lcom*'] = df['classMetric_lcom*'].fillna(df['classMetric_lcom*'].mean())\n",
    "\n",
    "# plt.hist(df['classMetric_lcom*'], bins=\n",
    "df['classMetric_lcom*'].sort_values(ascending=False).head(50)"
   ]
  },
  {
   "cell_type": "markdown",
   "metadata": {},
   "source": [
    "- Modifiers trocar -1 por 0, o dado -1 indica que não conseguiu computar, por esse motivo decidimos transformar -1 em 0."
   ]
  },
  {
   "cell_type": "code",
   "execution_count": 4,
   "metadata": {},
   "outputs": [],
   "source": [
    "\n",
    "df['classMetric_modifiers'] = df['classMetric_modifiers'].apply(lambda x: 0 if x == -1 else x)\n",
    "\n",
    "# display(df['classMetric_modifiers'].value_counts())\n",
    "# display(df)"
   ]
  },
  {
   "cell_type": "markdown",
   "metadata": {},
   "source": [
    "#### 2.3 Dados Categóricos"
   ]
  },
  {
   "cell_type": "markdown",
   "metadata": {},
   "source": [
    "- Aplicar Aplicar One-Hot Encoding na coluna operation(operações refatoração) e classMetric_type(tipo de dado)"
   ]
  },
  {
   "cell_type": "code",
   "execution_count": 5,
   "metadata": {},
   "outputs": [],
   "source": [
    "df['operations2'] = df['operation'].apply(lambda x: x.replace(\"[\",'').replace(\"]\",'').replace(\"'\",'').replace(\", \",','))\n",
    "df_encoded = df['operations2'].str.get_dummies(',')\n",
    "df = pd.concat([df,df_encoded],axis=1)\n",
    "\n",
    "df_types = pd.get_dummies(df['classMetric_type'], prefix='type')\n",
    "df = pd.concat([df,df_types],axis=1)\n",
    "\n",
    "# encoding_dic = {'enum':0,'anonymous': 1, 'innerclass':2, 'class':3,'interface':4 }\n",
    "# df['classMetric_type'] = df['classMetric_type'].map(encoding_dic)"
   ]
  },
  {
   "cell_type": "markdown",
   "metadata": {},
   "source": [
    "#### 2.4 Engenharia de Features"
   ]
  },
  {
   "cell_type": "markdown",
   "metadata": {},
   "source": [
    "- Calcular LOCC - diferença de linhas alteradas depois da refatoração. "
   ]
  },
  {
   "cell_type": "code",
   "execution_count": 6,
   "metadata": {},
   "outputs": [],
   "source": [
    "\n",
    "def calculate_locc(row, df):\n",
    "    if row['refactored'] == 1:\n",
    "        # Encontra a linha anterior com o mesmo 'classMetric_class' e 'refactored' igual a 0\n",
    "        previous_rows = df[(df['classMetric_class'] == row['classMetric_class']) & (df['refactored'] == 0) & (df.index < row.name)]\n",
    "        previous_loc = previous_rows.iloc[-1]['classMetric_loc'] if not previous_rows.empty else 0\n",
    "        row['locc'] = row['classMetric_loc'] - previous_loc\n",
    "    else:\n",
    "        row['locc'] = 0\n",
    "    return row\n",
    "\n",
    "# Aplica a função calculate_locc para cada grupo e cria a nova coluna \n",
    "# aux=[]\n",
    "df = df.apply(calculate_locc, args=(df,), axis=1)\n",
    "\n",
    "# display(aux[[ 'classMetric_class','refactored','classMetric_loc','locc']].tail(20))"
   ]
  },
  {
   "cell_type": "markdown",
   "metadata": {},
   "source": [
    "- Calcular Diff McCabe's complexity, Métrica DCC"
   ]
  },
  {
   "cell_type": "code",
   "execution_count": 7,
   "metadata": {},
   "outputs": [],
   "source": [
    "\n",
    "def calculate_dcc(row, df):\n",
    "    if row['refactored'] == 1:\n",
    "        # Encontra a linha anterior com o mesmo 'classMetric_class' e 'refactored' igual a 0\n",
    "        previous_rows = df[(df['classMetric_class'] == row['classMetric_class']) & (df['refactored'] == 0) & (df.index < row.name)]\n",
    "        previous_loc = previous_rows.iloc[-1]['classMetric_wmc'] if not previous_rows.empty else 0\n",
    "        row['dcc'] = row['classMetric_wmc'] - previous_loc\n",
    "    else:\n",
    "        row['dcc'] = 0\n",
    "    return row\n",
    "\n",
    "# Aplica a função calculate_locc para cada grupo e cria a nova coluna \n",
    "df = df.apply(calculate_dcc, args=(df,), axis=1)"
   ]
  },
  {
   "cell_type": "markdown",
   "metadata": {},
   "source": [
    "- Configurar Score de Similaridade antes da refatoracao"
   ]
  },
  {
   "cell_type": "code",
   "execution_count": 8,
   "metadata": {},
   "outputs": [],
   "source": [
    "df.loc[df['refactored'] == 0, 'ss'] = 0"
   ]
  },
  {
   "cell_type": "markdown",
   "metadata": {},
   "source": [
    "- Remover colunas que não serão usadas ou que já foram processadas"
   ]
  },
  {
   "cell_type": "code",
   "execution_count": 9,
   "metadata": {},
   "outputs": [],
   "source": [
    "df = df.drop(columns=['commit','operation','operations2','project','classMetric_file','classMetric_file2','file','file2','classMetric_class','classMetric_synchronizedFieldsQty','classMetric_type','classMetric_cbo','classMetric_lcom','classMetric_file','classMetric_tcc','classMetric_lcc','cs_before','cs_after','issues_after','issues_before','emails'])"
   ]
  },
  {
   "cell_type": "code",
   "execution_count": 10,
   "metadata": {},
   "outputs": [
    {
     "data": {
      "text/plain": [
       "<bound method IndexOpsMixin.value_counts of Index(['refactored', 'classMetric_cboModified', 'classMetric_fanin',\n",
       "       'classMetric_fanout', 'classMetric_wmc', 'classMetric_dit',\n",
       "       'classMetric_noc', 'classMetric_rfc', 'classMetric_lcom*',\n",
       "       'classMetric_totalMethodsQty',\n",
       "       ...\n",
       "       'Split Class', 'Split Package', 'Split Parameter', 'type_anonymous',\n",
       "       'type_class', 'type_enum', 'type_innerclass', 'type_interface', 'locc',\n",
       "       'dcc'],\n",
       "      dtype='object', length=147)>"
      ]
     },
     "execution_count": 10,
     "metadata": {},
     "output_type": "execute_result"
    }
   ],
   "source": [
    "df.columns.value_counts"
   ]
  },
  {
   "cell_type": "markdown",
   "metadata": {},
   "source": [
    "- [ Remover 13 por sugestões de desenvolvedores ] mas 'classMetric_Path of Class' já foram removidas antes 'File Type' então 11,"
   ]
  },
  {
   "cell_type": "code",
   "execution_count": 11,
   "metadata": {},
   "outputs": [],
   "source": [
    "# df = df.drop(columns=['classMetric_nosi', 'classMetric_rfc','classMetric_returnQty','classMetric_parenthesizedExpsQty','classMetric_stringLiteralsQty', 'classMetric_numbersQty', 'classMetric_mathOperationsQty',\t'classMetric_innerClassesQty',\t'classMetric_uniqueWordsQty', 'classMetric_logStatementsQty', 'classMetric_modifiers'])"
   ]
  },
  {
   "cell_type": "code",
   "execution_count": 12,
   "metadata": {},
   "outputs": [],
   "source": [
    "# from sklearn.preprocessing import MinMaxScaler,StandardScaler,RobustScaler,Normalizer\n",
    "# from numpy import log1p\n",
    "# scaler = Normalizer()\n",
    "# scaler = MinMaxScaler((0,1))\n",
    "\n",
    "# df[column] = scaler.fit_transform(df[[column]])\n",
    "# df[column] = df[column].round(1)\n",
    "# column='classMetric_cboModified'\n",
    "# df[column] = np.log1p(df[column])"
   ]
  },
  {
   "cell_type": "code",
   "execution_count": 13,
   "metadata": {},
   "outputs": [],
   "source": [
    "#reduzir outliers\n",
    "\n",
    "# colunas = df.iloc[:,:50]  # Para todas as colunas, ou especifique uma lista de colunas\n",
    "# def outlier():\n",
    "#     colunas = df.iloc[:,1:52].columns\n",
    "#     for coluna in colunas:\n",
    "#         Q1 = df[coluna].quantile(0.25)\n",
    "#         Q3 = df[coluna].quantile(0.75)\n",
    "#         IQR = Q3 - Q1\n",
    "#         limite_inferior = Q1 - 1.5 * IQR\n",
    "#         limite_superior = Q3 + 1.5 * IQR\n",
    "#         # df = df[(df[coluna] < limite_inferior) | (df[coluna] > limite_superior)]\n",
    "#         # df = df[(df[coluna] >= limite_inferior) & (df[coluna] <= limite_superior)]\n",
    "#             # Ajustando os outliers para o limite superior\n",
    "#         df[coluna] = df[coluna].apply(lambda x: limite_superior if x > limite_superior else x)\n",
    "#         df[coluna] = df[coluna].apply(lambda x: limite_inferior if x < limite_superior else x)\n",
    "\n",
    "# outlier()"
   ]
  },
  {
   "cell_type": "markdown",
   "metadata": {},
   "source": [
    "- Calcular Index"
   ]
  },
  {
   "cell_type": "code",
   "execution_count": 14,
   "metadata": {},
   "outputs": [],
   "source": [
    "#STEP 1 - Normalizar features para escala 0-1\n",
    "def scaleMM(df, column, inverse=False):\n",
    "\n",
    "    min_val = df[column].min()\n",
    "    max_val = df[column].max()\n",
    "    aux = df[column]\n",
    "\n",
    "    # menorMelhor\n",
    "    if inverse:\n",
    "        scaled_column = df[column].apply(\n",
    "            lambda x: (max_val - x) / (max_val - min_val))\n",
    "    # maiorMelhor\n",
    "    else:\n",
    "        scaled_column = df[column].apply(\n",
    "            lambda x: (x - min_val) / (max_val - min_val))\n",
    "\n",
    "    return scaled_column\n",
    "\n",
    "\n",
    "dfForIndex = pd.DataFrame()\n",
    "for column in df.columns:\n",
    "\n",
    "    # retornar escala no scaleMM quando MAIOR É MELHOR\n",
    "    if column in [\n",
    "        'classMetric_noc',\n",
    "        'classMetric_nosi',\n",
    "        'classMetric_totalFieldsQty',\n",
    "        'classMetric_totalMethodsQty', \n",
    "        'classMetric_variablesQty',\n",
    "        'classMetric_defaultFieldsQty',\n",
    "        'classMetric_staticFieldsQty', 'classMetric_publicFieldsQty',\n",
    "        'classMetric_privateFieldsQty', 'classMetric_protectedFieldsQty',\n",
    "        'classMetric_staticMethodsQty',\n",
    "        'classMetric_publicMethodsQty', 'classMetric_privateMethodsQty',\n",
    "        'classMetric_protectedMethodsQty', 'classMetric_defaultMethodsQty',\n",
    "        'classMetric_visibleMethodsQty', 'classMetric_abstractMethodsQty',\n",
    "        'classMetric_finalMethodsQty', 'classMetric_finalFieldsQty', \n",
    "        'classMetric_uniqueWordsQty',\n",
    "        'classMetric_mathOperationsQty',\n",
    "        'classMetric_modifiers',\n",
    "        'classMetric_assignmentsQty',\n",
    "        'classMetric_logStatementsQty', \n",
    "        'foc7', 'foc14', 'foc21', 'foc28'\n",
    "        ]:\n",
    "        dfForIndex = pd.concat([dfForIndex, scaleMM(df, column)], axis=1)\n",
    "\n",
    "    elif column in ['classMetric_cboModified',\n",
    "                    'classMetric_fanin',\n",
    "                    'classMetric_fanout',\n",
    "                    'classMetric_dit',\n",
    "                    'classMetric_rfc',\n",
    "                    'classMetric_wmc',\n",
    "                    'classMetric_loc',\n",
    "                    'classMetric_lcom*',\n",
    "                    'classMetric_returnQty',\n",
    "                    'classMetric_comparisonsQty',\n",
    "                    'classMetric_tryCatchQty',\n",
    "                    'classMetric_stringLiteralsQty',\n",
    "                    'classMetric_maxNestedBlocksQty',\n",
    "                    'classMetric_anonymousClassesQty',\n",
    "                    'classMetric_innerClassesQty',\n",
    "                    'classMetric_lambdasQty',\n",
    "                    'classMetric_synchronizedMethodsQty',\n",
    "                    'classMetric_parenthesizedExpsQty',\n",
    "                    'classMetric_loopQty',\n",
    "                    'classMetric_numbersQty',\n",
    "                    'cs', 'issues', 'locc', 'dcc'\n",
    "                    ]:\n",
    "        dfForIndex = pd.concat([dfForIndex, scaleMM(df, column, True)], axis=1)\n",
    "\n",
    "    else:\n",
    "        pass\n",
    "\n",
    "\n",
    "#adicionar coluna 'ss' do df no dfForIndex para contabilizar no cálculo do aspecto complexidade\n",
    "dfForIndex['ss'] = df['ss']\n",
    "dfForIndex = dfForIndex.fillna(0)\n"
   ]
  },
  {
   "cell_type": "code",
   "execution_count": 15,
   "metadata": {},
   "outputs": [
    {
     "name": "stdout",
     "output_type": "stream",
     "text": [
      "Aspecto Risk: 0.31197752853440947 - 0.9775819437026487\n",
      "Aspecto Speed: 3.1497614982564445e-06 - 0.9628294036061027\n",
      "Aspecto Complexity: 0.30738074380940184 - 0.5445126667305343\n",
      "Index: 0.23979976732584188 - 0.7831412978913092\n"
     ]
    }
   ],
   "source": [
    "#STEP 2 - Calcular index por aspectos \n",
    "#  dfForIndex[['classMetric_noc']].sort_values(by='classMetric_noc', ascending=False)\n",
    "from sklearn.preprocessing import MinMaxScaler\n",
    "\n",
    "\n",
    "a_risk_list = []\n",
    "a_speed_list = []\n",
    "a_complexity_list = []\n",
    "\n",
    "\n",
    "\n",
    "for index, row in dfForIndex.iterrows():\n",
    "    sum_complexity=0\n",
    "    sum_speed=0\n",
    "    sum_risk=0\n",
    "    for column in dfForIndex.columns:\n",
    "        if column in ['dcc', 'cs', 'issues']:\n",
    "            sum_risk += row[column]\n",
    "        elif column in ['locc','foc7', 'foc14', 'foc21', 'foc28']:\n",
    "            sum_speed += row[column]\n",
    "        else:\n",
    "            sum_complexity += row[column]\n",
    "    a_risk = sum_risk/3;\n",
    "    a_risk_list.append(a_risk)\n",
    "    a_speed = sum_speed/5;\n",
    "    a_speed_list.append(a_speed)\n",
    "    a_complexity = sum_complexity/(len(dfForIndex.columns)-8)\n",
    "    a_complexity_list.append(a_complexity)\n",
    "\n",
    "\n",
    "\n",
    "\n",
    "dfForIndex['a_risk'] = a_risk_list\n",
    "dfForIndex['a_speed'] = a_speed_list\n",
    "dfForIndex['a_complexity'] = a_complexity_list\n",
    "dfForIndex['index'] = (dfForIndex['a_risk'] + dfForIndex['a_speed'] + dfForIndex['a_complexity'])/3\n",
    "\n",
    "\n",
    "# # imprimir min e max de cada aspecto e do index\n",
    "print('Aspecto Risk:', dfForIndex['a_risk'].min(), '-', dfForIndex['a_risk'].max())\n",
    "print('Aspecto Speed:', dfForIndex['a_speed'].min(), '-', dfForIndex['a_speed'].max())\n",
    "print('Aspecto Complexity:', dfForIndex['a_complexity'].min(), '-', dfForIndex['a_complexity'].max()) # max aumentou com a sintetização das colunas de metodos e fields.\n",
    "print('Index:', dfForIndex['index'].min(), '-', dfForIndex['index'].max())\n",
    "\n",
    "\n",
    "# Convertendo o array numpy de volta para um DataFrame e atualizando as colunas originais\n",
    "#remove aspectos\n",
    "dfForIndex = dfForIndex.drop(columns=['a_risk','a_speed','a_complexity'])\n",
    "\n"
   ]
  },
  {
   "cell_type": "code",
   "execution_count": 16,
   "metadata": {},
   "outputs": [
    {
     "data": {
      "image/png": "[encoded data removed]",
      "text/plain": [
       "<Figure size 1000x800 with 8 Axes>"
      ]
     },
     "metadata": {},
     "output_type": "display_data"
    }
   ],
   "source": [
    "\n",
    "import matplotlib.pyplot as plt\n",
    "import seaborn as sns\n",
    "\n",
    "# plt.hist(dfForIndex['index'], bins=10)\n",
    "# exbir dispersão dos dados\n",
    "\n",
    "plt.figure(figsize=(10, 8)) \n",
    "\n",
    "colunas = ['foc7','foc14','foc21','foc28','cs','issues','ss', 'index'] \n",
    "for i, coluna in enumerate(colunas):\n",
    "    plt.subplot(5, 3, i+1)\n",
    "    # sns.boxplot(x=df[coluna], orient='h')\n",
    "    sns.histplot(dfForIndex[coluna], kde=True)\n",
    "    plt.title(coluna)\n",
    "plt.tight_layout()\n",
    "plt.show()"
   ]
  },
  {
   "cell_type": "code",
   "execution_count": 17,
   "metadata": {},
   "outputs": [
    {
     "name": "stderr",
     "output_type": "stream",
     "text": [
      "dist_matrix: 100%|##########| 188/188 [00:08<00:00, 21.01it/s]\n",
      "synth_matrix: 100%|##########| 188/188 [00:03<00:00, 51.40it/s]\n",
      "r_index: 100%|##########| 16/16 [00:00<00:00, 666.23it/s]\n"
     ]
    },
    {
     "data": {
      "image/png": "[encoded data removed]",
      "text/plain": [
       "<Figure size 1000x800 with 8 Axes>"
      ]
     },
     "metadata": {},
     "output_type": "display_data"
    }
   ],
   "source": [
    "import smogn\n",
    "#https://proceedings.mlr.press/v74/branco17a/branco17a.pdf\n",
    "\n",
    "dfForIndex = smogn.smoter(data = dfForIndex, y = 'index' )\n",
    "# balancing = '-smogn'\n",
    "\n",
    "\n",
    "plt.figure(figsize=(10, 8)) \n",
    "\n",
    "colunas = ['foc7','foc14','foc21','foc28','cs','issues','ss', 'index'] \n",
    "for i, coluna in enumerate(colunas):\n",
    "    plt.subplot(5, 3, i+1)\n",
    "    # sns.boxplot(x=df[coluna], orient='h')\n",
    "    sns.histplot(dfForIndex[coluna], kde=True)\n",
    "    plt.title(coluna)\n",
    "plt.tight_layout()\n",
    "plt.show()\n",
    "\n"
   ]
  },
  {
   "cell_type": "code",
   "execution_count": 18,
   "metadata": {},
   "outputs": [],
   "source": [
    "# plt.hist(dfForIndex['index'], bins=10)"
   ]
  },
  {
   "cell_type": "code",
   "execution_count": 19,
   "metadata": {},
   "outputs": [],
   "source": [
    "# Adicionar outras colunas binárias\n",
    "features_operation = [\n",
    "    'refactored',\n",
    "    'Add Attribute Annotation', 'Add Attribute Modifier',\n",
    "    'Add Class Annotation', 'Add Class Modifier',\n",
    "    'Add Method Annotation', 'Add Method Modifier', 'Add Parameter',\n",
    "    'Add Parameter Annotation', 'Add Parameter Modifier',\n",
    "    'Add Thrown Exception Type', 'Add Variable Modifier',\n",
    "    'Change Attribute Access Modifier', 'Change Attribute Type',\n",
    "    'Change Class Access Modifier', 'Change Method Access Modifier',\n",
    "    'Change Parameter Type', 'Change Return Type',\n",
    "    'Change Thrown Exception Type', 'Change Type Declaration Kind',\n",
    "    'Change Variable Type', 'Collapse Hierarchy',\n",
    "    'Encapsulate Attribute', 'Extract And Move Method',\n",
    "    'Extract Attribute', 'Extract Class', 'Extract Interface',\n",
    "    'Extract Method', 'Extract Subclass', 'Extract Superclass',\n",
    "    'Extract Variable', 'Inline Method', 'Inline Variable',\n",
    "    'Invert Condition', 'Localize Parameter', 'Merge Attribute',\n",
    "    'Merge Catch', 'Merge Class', 'Merge Conditional', 'Merge Package',\n",
    "    'Merge Parameter', 'Merge Variable', 'Modify Attribute Annotation',\n",
    "    'Modify Class Annotation', 'Modify Method Annotation',\n",
    "    'Move And Inline Method', 'Move And Rename Attribute',\n",
    "    'Move And Rename Class', 'Move And Rename Method',\n",
    "    'Move Attribute', 'Move Class', 'Move Code', 'Move Method',\n",
    "    'Move Package', 'Move Source Folder', 'Parameterize Attribute',\n",
    "    'Parameterize Variable', 'Pull Up Attribute', 'Pull Up Method',\n",
    "    'Push Down Attribute', 'Push Down Method',\n",
    "    'Remove Attribute Annotation', 'Remove Attribute Modifier',\n",
    "    'Remove Class Annotation', 'Remove Class Modifier',\n",
    "    'Remove Method Annotation', 'Remove Method Modifier',\n",
    "    'Remove Parameter', 'Remove Parameter Annotation',\n",
    "    'Remove Parameter Modifier', 'Remove Thrown Exception Type',\n",
    "    'Remove Variable Modifier', 'Rename Attribute', 'Rename Class',\n",
    "    'Rename Method', 'Rename Package', 'Rename Parameter',\n",
    "    'Rename Variable', 'Reorder Parameter',\n",
    "    'Replace Anonymous With Class', 'Replace Anonymous With Lambda',\n",
    "    'Replace Attribute', 'Replace Attribute With Variable',\n",
    "    'Replace Loop With Pipeline', 'Replace Variable With Attribute',\n",
    "    'Split Attribute', 'Split Class', 'Split Package',\n",
    "    'Split Parameter'\n",
    "]\n",
    "\n",
    "for column in df.columns:\n",
    "    if column in features_operation:\n",
    "        dfForIndex[column] = df[column]\n",
    "# Atribuir 0 para as colunas especificadas onde refactored é 0\n",
    "dfForIndex.loc[dfForIndex['refactored'] == 0, features_operation] = 0"
   ]
  },
  {
   "cell_type": "markdown",
   "metadata": {},
   "source": [
    "### Grafico de caixa - box plot"
   ]
  },
  {
   "cell_type": "code",
   "execution_count": 20,
   "metadata": {},
   "outputs": [],
   "source": [
    "# import seaborn as sns\n",
    "# import matplotlib.pyplot as plt\n",
    "\n",
    "# Box plot usando seaborn\n",
    "# plt.figure(figsize=(7, 6))\n",
    "# sns.boxplot(data=dfForIndex[['dcc']], orient='h')\n",
    "# sns.boxplot(data=dfForIndex[['cs']], orient='h')\n",
    "# sns.boxplot(data=dfForIndex[['issues']], orient='h')\n",
    "# plt.title('Box Plot of Features')\n",
    "# plt.show()"
   ]
  },
  {
   "cell_type": "code",
   "execution_count": 21,
   "metadata": {},
   "outputs": [],
   "source": [
    "# Histograma usando seaborn\n",
    "# sns.histplot(dfForIndex['a_complexity'], bins=10, color='blue', alpha=0.7)\n",
    "# sns.histplot(dfForIndex['a_risk'], bins=10, color='red', alpha=0.7)\n",
    "# plt.title('Histogram using Seaborn')\n",
    "# plt.show()"
   ]
  },
  {
   "cell_type": "code",
   "execution_count": 22,
   "metadata": {},
   "outputs": [],
   "source": [
    "# sns.scatterplot(data=dfForIndex, x='a_complexity', y='a_complexity', color='red')\n",
    "# plt.title('Scatter Plot using Seaborn')\n",
    "# plt.show()"
   ]
  },
  {
   "cell_type": "code",
   "execution_count": 23,
   "metadata": {},
   "outputs": [
    {
     "name": "stdout",
     "output_type": "stream",
     "text": [
      "(4732, 132)\n",
      "<class 'pandas.core.frame.DataFrame'>\n",
      "Index: 4732 entries, 0 to 4919\n",
      "Columns: 132 entries, classMetric_cboModified to Split Parameter\n",
      "dtypes: float64(43), int64(89)\n",
      "memory usage: 4.8 MB\n",
      "None\n"
     ]
    }
   ],
   "source": [
    "#Verificando se ainda tem NaN\n",
    "for column in dfForIndex.columns:\n",
    "    if dfForIndex[column].isnull().sum() > 0:\n",
    "        print(column)\n",
    "\n",
    "print(dfForIndex.shape)\n",
    "\n",
    "# Verificar informações gerais do dataset\n",
    "print(dfForIndex.info())\n",
    "\n",
    "# Estatísticas descritivas\n",
    "# print(dfForIndex.describe())"
   ]
  },
  {
   "cell_type": "markdown",
   "metadata": {},
   "source": [
    "## Treinamento do modelo"
   ]
  },
  {
   "cell_type": "code",
   "execution_count": 24,
   "metadata": {},
   "outputs": [
    {
     "data": {
      "text/plain": [
       "(4732, 132)"
      ]
     },
     "execution_count": 24,
     "metadata": {},
     "output_type": "execute_result"
    }
   ],
   "source": [
    "dfForIndex.shape"
   ]
  },
  {
   "cell_type": "code",
   "execution_count": 25,
   "metadata": {},
   "outputs": [],
   "source": [
    "from sklearn.discriminant_analysis import StandardScaler\n",
    "from sklearn.model_selection import train_test_split\n",
    "import numpy as np\n",
    "\n",
    "\n",
    "#1 - PREPARAR DADOS - X e y\n",
    "# dfForIndex = dfForIndex.sample(frac=1, random_state=42).reset_index(drop=True)\n",
    "\n",
    "\n",
    "\n",
    "\n",
    "dfForIndex = dfForIndex.astype(float).round(2)\n",
    "x = dfForIndex.drop(columns=['index'], axis=1)\n",
    "y = dfForIndex['index']\n",
    "\n",
    "#2 - DIVIDIR DADOS - TREINO E TESTE\n",
    "x_train, x_test, y_train, y_test = train_test_split(x, y, test_size=0.2, random_state=42)"
   ]
  },
  {
   "cell_type": "code",
   "execution_count": 27,
   "metadata": {},
   "outputs": [
    {
     "name": "stdout",
     "output_type": "stream",
     "text": [
      "classMetric_cboModified\n",
      "classMetric_fanin\n",
      "classMetric_fanout\n",
      "classMetric_wmc\n",
      "classMetric_dit\n",
      "classMetric_noc\n",
      "classMetric_lcom*\n",
      "classMetric_totalMethodsQty\n",
      "classMetric_staticMethodsQty\n",
      "classMetric_publicMethodsQty\n",
      "classMetric_privateMethodsQty\n",
      "classMetric_protectedMethodsQty\n",
      "classMetric_defaultMethodsQty\n",
      "classMetric_visibleMethodsQty\n",
      "classMetric_abstractMethodsQty\n",
      "classMetric_finalMethodsQty\n",
      "classMetric_synchronizedMethodsQty\n",
      "classMetric_totalFieldsQty\n",
      "classMetric_staticFieldsQty\n",
      "classMetric_publicFieldsQty\n",
      "classMetric_privateFieldsQty\n",
      "classMetric_protectedFieldsQty\n",
      "classMetric_defaultFieldsQty\n",
      "classMetric_finalFieldsQty\n",
      "classMetric_loc\n",
      "classMetric_loopQty\n",
      "classMetric_comparisonsQty\n",
      "classMetric_tryCatchQty\n",
      "classMetric_assignmentsQty\n",
      "classMetric_variablesQty\n",
      "classMetric_maxNestedBlocksQty\n",
      "classMetric_anonymousClassesQty\n",
      "classMetric_lambdasQty\n",
      "foc7\n",
      "foc14\n",
      "foc21\n",
      "foc28\n",
      "cs\n",
      "issues\n",
      "locc\n",
      "dcc\n",
      "ss\n",
      "refactored\n",
      "Add Attribute Annotation\n",
      "Add Attribute Modifier\n",
      "Add Class Annotation\n",
      "Add Class Modifier\n",
      "Add Method Annotation\n",
      "Add Method Modifier\n",
      "Add Parameter\n",
      "Add Parameter Annotation\n",
      "Add Parameter Modifier\n",
      "Add Thrown Exception Type\n",
      "Add Variable Modifier\n",
      "Change Attribute Access Modifier\n",
      "Change Attribute Type\n",
      "Change Class Access Modifier\n",
      "Change Method Access Modifier\n",
      "Change Parameter Type\n",
      "Change Return Type\n",
      "Change Thrown Exception Type\n",
      "Change Type Declaration Kind\n",
      "Change Variable Type\n",
      "Collapse Hierarchy\n",
      "Encapsulate Attribute\n",
      "Extract And Move Method\n",
      "Extract Attribute\n",
      "Extract Class\n",
      "Extract Interface\n",
      "Extract Method\n",
      "Extract Subclass\n",
      "Extract Superclass\n",
      "Extract Variable\n",
      "Inline Method\n",
      "Inline Variable\n",
      "Invert Condition\n",
      "Localize Parameter\n",
      "Merge Attribute\n",
      "Merge Catch\n",
      "Merge Class\n",
      "Merge Conditional\n",
      "Merge Package\n",
      "Merge Parameter\n",
      "Merge Variable\n",
      "Modify Attribute Annotation\n",
      "Modify Class Annotation\n",
      "Modify Method Annotation\n",
      "Move And Inline Method\n",
      "Move And Rename Attribute\n",
      "Move And Rename Class\n",
      "Move And Rename Method\n",
      "Move Attribute\n",
      "Move Class\n",
      "Move Code\n",
      "Move Method\n",
      "Move Package\n",
      "Move Source Folder\n",
      "Parameterize Attribute\n",
      "Parameterize Variable\n",
      "Pull Up Attribute\n",
      "Pull Up Method\n",
      "Push Down Attribute\n",
      "Push Down Method\n",
      "Remove Attribute Annotation\n",
      "Remove Attribute Modifier\n",
      "Remove Class Annotation\n",
      "Remove Class Modifier\n",
      "Remove Method Annotation\n",
      "Remove Method Modifier\n",
      "Remove Parameter\n",
      "Remove Parameter Annotation\n",
      "Remove Parameter Modifier\n",
      "Remove Thrown Exception Type\n",
      "Remove Variable Modifier\n",
      "Rename Attribute\n",
      "Rename Class\n",
      "Rename Method\n",
      "Rename Package\n",
      "Rename Parameter\n",
      "Rename Variable\n",
      "Reorder Parameter\n",
      "Replace Anonymous With Class\n",
      "Replace Anonymous With Lambda\n",
      "Replace Attribute\n",
      "Replace Attribute With Variable\n",
      "Replace Loop With Pipeline\n",
      "Replace Variable With Attribute\n",
      "Split Attribute\n",
      "Split Class\n",
      "Split Package\n",
      "Split Parameter\n"
     ]
    }
   ],
   "source": [
    "for col in x_test.columns:\n",
    "    print(col)"
   ]
  },
  {
   "cell_type": "code",
   "execution_count": null,
   "metadata": {},
   "outputs": [],
   "source": [
    "\n",
    "# def adjusted_r2(y_test, y_pred,X_train):\n",
    "    \n",
    "#   from sklearn.metrics import r2_score\n",
    "\n",
    "#   adj_r2 = (1 - ((1 - r2_score(y_test, y_pred)) * (len(y_test) - 1)) / \n",
    "#           (len(y_test) - X_train.shape[1] - 1))\n",
    "    \n",
    "#   return adj_r2"
   ]
  },
  {
   "cell_type": "code",
   "execution_count": null,
   "metadata": {},
   "outputs": [],
   "source": [
    "# import numpy as np\n",
    "\n",
    "# MAPE = np.mean(np.abs((y_test - y_pred) / y_test)) * 100\n",
    "\n",
    "# # print(f\"Valor do MAPE dado em percentual: {MAPE}\")\n",
    "\n",
    "\n",
    "\n",
    "# MSE (Mean Squared Error): Penaliza fortemente grandes erros, é sensível a outliers.\n",
    "# RMSE (Root Mean Squared Error): Raiz quadrada do MSE, tem a mesma unidade que a variável dependente.\n",
    "# r2  (Coeficiente de Determinação): Mede a proporção da variabilidade explicada pelo modelo.\n",
    "# r2  Ajustado: Ajusta o r2 pelo número de preditores no modelo.\n",
    "# MAE (Mean Absolute Error): Média dos erros absolutos, menos sensível a outliers do que MSE.\n",
    "# MAPE (Mean Absolute Percentage Error): Erro percentual médio absoluto, útil quando os valores reais não são zero.\n",
    "# RMSLE (Root Mean Squared Logarithmic Error): Penaliza menos os grandes erros, adequado quando há grandes variações nos valores reais."
   ]
  },
  {
   "cell_type": "markdown",
   "metadata": {},
   "source": [
    "## Algoritmos baseados em Regression"
   ]
  },
  {
   "cell_type": "code",
   "execution_count": null,
   "metadata": {},
   "outputs": [],
   "source": []
  },
  {
   "cell_type": "code",
   "execution_count": null,
   "metadata": {},
   "outputs": [],
   "source": [
    "#3 - TREINAR MODELO\n",
    "from sklearn.linear_model import LinearRegression, Lasso, Ridge, ElasticNet\n",
    "from sklearn.model_selection import GridSearchCV, cross_val_score\n",
    "from sklearn.metrics import mean_squared_error, mean_absolute_error, r2_score, root_mean_squared_error\n",
    "import joblib\n",
    "import json\n",
    "import time\n",
    "\n",
    "# Lista de modelos de regressão\n",
    "modelos = [\n",
    "    (LinearRegression(), \"LinearRegression\"),\n",
    "    (Lasso(), \"Lasso\"),\n",
    "    (Ridge(), \"Ridge\"),\n",
    "    (ElasticNet(), \"ElasticNet\")\n",
    "]\n",
    "\n",
    "# Dicionário de param_grid para cada modelo\n",
    "param_grids = {\n",
    "    \"LinearRegression\": {\n",
    "        'fit_intercept': [True, False]\n",
    "    },\n",
    "    \"Lasso\": {\n",
    "        'alpha': [0.1, 1.0, 10.0, 100.0],\n",
    "        'fit_intercept': [True, False],\n",
    "        'random_state': [42]\n",
    "    },\n",
    "    \"Ridge\": {\n",
    "        'alpha': [0.1, 1.0, 10.0, 100.0],\n",
    "        'fit_intercept': [True, False],\n",
    "        'random_state': [42]\n",
    "    },\n",
    "    \"ElasticNet\": {\n",
    "        'alpha': [0.1, 1.0, 10.0],\n",
    "        'l1_ratio': [0.1, 0.5, 0.9, 1.0],\n",
    "        'fit_intercept': [True, False],\n",
    "        'random_state': [42]\n",
    "    }\n",
    "}\n",
    "\n",
    "scoring = 'r2'\n",
    "\n",
    "for modelo, nome in modelos:\n",
    "    start_time = time.time()\n",
    "    print(f\"Treinando {dataset} com {nome}...\")\n",
    "    grid_search = GridSearchCV(modelo, param_grids[nome], cv=5, n_jobs=-1, scoring=scoring, verbose=1)\n",
    "    grid_search.fit(x_train, y_train)\n",
    "    joblib.dump(grid_search.best_estimator_, f'./modelos/modelo-{dataset}-{nome}{balancing}.pkl')\n",
    "\n",
    "    config_hiperparametros=grid_search.best_params_\n",
    "    y_pred = grid_search.best_estimator_.predict(x_test)\n",
    "    print(f\"{nome} - MSE: {mean_squared_error(y_test, y_pred)}\")\n",
    "    print(f\"{nome} - RMSE: {root_mean_squared_error(y_test, y_pred)}\")\n",
    "    print(f\"{nome} - MAE: {mean_absolute_error(y_test, y_pred)}\")\n",
    "    print(f\"{nome} - R²: {r2_score(y_test, y_pred)}\")\n",
    "    end_time = time.time()\n",
    "    training_time = end_time - start_time\n",
    "    print(f\"Tempo de treinamento para {nome}: {training_time:.2f} segundos.\\n\")\n",
    "\n",
    "    resultados ={\n",
    "        'MSE': mean_squared_error(y_test, y_pred),\n",
    "        'RMSE': root_mean_squared_error(y_test, y_pred),\n",
    "        'MAE': mean_absolute_error(y_test, y_pred),\n",
    "        'R2': r2_score(y_test, y_pred),\n",
    "        'config_hiperparametros': config_hiperparametros,\n",
    "        'tempo_treinamento': training_time\n",
    "    }\n",
    "    # Salva os resultados em um arquivo JSON\n",
    "    with open(f'./modelos/resultados-{dataset}-{nome}{balancing}.json', 'w') as arquivo_json:\n",
    "        json.dump(resultados, arquivo_json, indent=4)\n",
    "\n",
    "\n",
    "\n",
    "# MAE - Mean Absolute Error - A média do valor absoluto dos erros. É uma medida fácil de entender e indica o erro médio.\n",
    "# MSE - Mean Squared Error - Fornece uma ideia da magnitude dos erros do modelo. Valores menores indicam melhor desempenho, sendo 0 o valor ideal.\n",
    "# RMSE - Root Mean Squared Error - Fornece uma ideia da magnitude dos erros do modelo. Valores menores indicam melhor desempenho, sendo 0 o valor ideal.\n",
    "# r² coeficiente de determinação - Indica quão bem as variáveis independentes explicam a variável dependente. Um valor mais alto indica um melhor ajuste do modelo, mas é importante considerar o contexto.\n",
    "\n"
   ]
  },
  {
   "cell_type": "code",
   "execution_count": null,
   "metadata": {},
   "outputs": [],
   "source": [
    "# #Visualizar os coeficientes do modelo\n",
    "# import matplotlib.pyplot as plt\n",
    "\n",
    "# plt.scatter(y_test, y_test, color='blue', label='Valores Reais')  # Valores reais em azul\n",
    "# plt.scatter(y_test, y_pred, color='red', label='Valores Preditos')  # Valores preditos em vermelho\n",
    "# plt.xlabel('Valores Reais')\n",
    "# plt.ylabel('Valores Preditos/Reais')\n",
    "# plt.title('Valores Reais vs Preditos')\n",
    "# plt.legend()\n",
    "# plt.show()\n"
   ]
  },
  {
   "cell_type": "code",
   "execution_count": null,
   "metadata": {},
   "outputs": [],
   "source": [
    "# # Obter os coeficientes\n",
    "# coeficientes = grid_search.best_estimator_.coef_\n",
    "# features_coeficientes = zip(x_train.columns, coeficientes)\n",
    "# features_influencia = sorted(features_coeficientes, key=lambda x: abs(x[1]), reverse=True)\n",
    "\n",
    "# # Imprimir as features e seus coeficientes, do mais influente ao menos influente\n",
    "\n",
    "\n",
    "\n",
    "# print(\"Feature\\t\\tInfluência\")\n",
    "# for feature, coef in features_influencia:\n",
    "#     print(f\"{feature} \\t{coef}\")\n"
   ]
  },
  {
   "cell_type": "markdown",
   "metadata": {},
   "source": [
    "## Algoritmos baseados em árvores"
   ]
  },
  {
   "cell_type": "code",
   "execution_count": null,
   "metadata": {},
   "outputs": [],
   "source": [
    "#3 - TREINAR MODELO\n",
    "from sklearn.tree import DecisionTreeRegressor\n",
    "from sklearn.ensemble import RandomForestRegressor, GradientBoostingRegressor\n",
    "from xgboost import XGBRegressor \n",
    "from sklearn.model_selection import GridSearchCV\n",
    "from sklearn.metrics import mean_squared_error, mean_absolute_error, r2_score, root_mean_squared_error\n",
    "import joblib\n",
    "import json\n",
    "import time\n",
    "\n",
    "# Lista de modelos de regressão baseados em árvore\n",
    "modelos = [\n",
    "    # (DecisionTreeRegressor(), \"DecisionTreeRegressor\"),\n",
    "    # (RandomForestRegressor(), \"RandomForestRegressor\"),\n",
    "    # (GradientBoostingRegressor(), \"GradientBoostingRegressor\"),\n",
    "    (XGBRegressor(), \"XGBRegressor\")\n",
    "]\n",
    "\n",
    "# Dicionário de param_grid para cada modelo baseado em árvore\n",
    "param_grids = {\n",
    "    \"DecisionTreeRegressor\": {\n",
    "        'max_depth': [None, 10, 20, 30],\n",
    "        'min_samples_split': [2, 5, 10],\n",
    "        'min_samples_leaf': [1, 2, 4]\n",
    "    },\n",
    "    \"RandomForestRegressor\": {\n",
    "        'n_estimators': [100, 200, 300],\n",
    "        'max_depth': [None, 10, 20, 30],\n",
    "        'min_samples_split': [2, 5, 10],\n",
    "        'min_samples_leaf': [1, 2, 4],\n",
    "        'random_state': [42]\n",
    "    },\n",
    "    \"GradientBoostingRegressor\": {\n",
    "        'n_estimators': [100, 200, 300],\n",
    "        'learning_rate': [0.01, 0.1, 0.2],\n",
    "        'max_depth': [3, 5, 10],\n",
    "        'min_samples_split': [2, 5, 10],\n",
    "        'min_samples_leaf': [1, 2, 4],\n",
    "        'random_state': [42]\n",
    "    },\n",
    "    \"XGBRegressor\": {\n",
    "        'n_estimators': [100, 200, 300],\n",
    "        'max_depth': [3, 5, 10],\n",
    "        'eta': [0.01, 0.1, 0.3],\n",
    "        'subsample': [0.5, 0.7, 1.0],\n",
    "        'colsample_bytree': [0.5, 1.0],\n",
    "        'learning_rate': [0.01, 0.1, 0.2],\n",
    "        'min_child_weight': [1, 2, 4],\n",
    "        'random_state': [42]\n",
    "    }\n",
    "}\n",
    "\n",
    "scoring = 'r2'\n",
    "\n",
    "for modelo, nome in modelos:\n",
    "    start_time = time.time()\n",
    "    print(f\"{start_time} - Treinando {dataset} com {nome}...\")\n",
    "    grid_search = GridSearchCV(modelo, param_grids[nome], cv=5, n_jobs=-1, scoring=scoring, verbose=1)\n",
    "    grid_search.fit(x_train, y_train)\n",
    "    joblib.dump(grid_search.best_estimator_, f'./modelos/modelo-{dataset}-{nome}{balancing}.pkl')\n",
    "\n",
    "    config_hiperparametros = grid_search.best_params_\n",
    "    y_pred = grid_search.best_estimator_.predict(x_test)\n",
    "    print(f\"{nome} - MSE: {mean_squared_error(y_test, y_pred)}\")\n",
    "    print(f\"{nome} - RMSE: {root_mean_squared_error(y_test, y_pred)}\")\n",
    "    print(f\"{nome} - MAE: {mean_absolute_error(y_test, y_pred)}\")\n",
    "    print(f\"{nome} - R²: {r2_score(y_test, y_pred)}\")\n",
    "    print(f'config_hiperparametros: {config_hiperparametros}')\n",
    "    end_time = time.time()\n",
    "    training_time = end_time - start_time\n",
    "    print(f\"Tempo de treinamento para {nome}: {training_time:.2f} segundos.\\n\")\n",
    "    \n",
    "\n",
    "    resultados = {\n",
    "        'MSE': mean_squared_error(y_test, y_pred),\n",
    "        'RMSE': root_mean_squared_error(y_test, y_pred),\n",
    "        'MAE': mean_absolute_error(y_test, y_pred),\n",
    "        'R2': r2_score(y_test, y_pred),\n",
    "        'config_hiperparametros': config_hiperparametros,\n",
    "        'tempo_treinamento': training_time\n",
    "    }\n",
    "    # Salva os resultados em um arquivo JSON\n",
    "    with open(f'./modelos/resultados-{dataset}-{nome}{balancing}.json', 'w') as arquivo_json:\n",
    "        json.dump(resultados, arquivo_json, indent=4)"
   ]
  },
  {
   "cell_type": "code",
   "execution_count": null,
   "metadata": {},
   "outputs": [],
   "source": [
    "#Exemplo de entrada do usuário\n",
    "# Simular entrada do usuário \n",
    "aux = x_test.iloc[0:1,] #recebe as métricas, pegando uma linha do x_test\n",
    "aux.iloc[:,57:] = 0 # zera as métricas correspondente a operações de refatoração\n",
    "aux['Extract Class']=1 #simula a operação de refatoração, que será entrada do usuário\n",
    "x_user = aux.values.reshape(1, -1) #transforma em array\n",
    "ypred_user = grid_search.best_estimator_.predict(x_user)\n",
    "\n",
    "# Interpretar a previsão\n",
    "print(f'Index {ypred_user[0]:.2f}')\n",
    "if ypred_user >= 0.8:\n",
    "    print(\"A refatoração é altamente trivial.\")\n",
    "elif ypred_user >= 0.5:\n",
    "    print(\"A refatoração é moderadamente trivial.\")\n",
    "else:\n",
    "    print(\"A refatoração pode não ser trivial.\")"
   ]
  }
 ],
 "metadata": {
  "kernelspec": {
   "display_name": "Python 3",
   "language": "python",
   "name": "python3"
  },
  "language_info": {
   "codemirror_mode": {
    "name": "ipython",
    "version": 3
   },
   "file_extension": ".py",
   "mimetype": "text/x-python",
   "name": "python",
   "nbconvert_exporter": "python",
   "pygments_lexer": "ipython3",
   "version": "3.12.1"
  }
 },
 "nbformat": 4,
 "nbformat_minor": 2
}
