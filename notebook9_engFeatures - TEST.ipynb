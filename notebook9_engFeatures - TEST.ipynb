{
 "cells": [
  {
   "cell_type": "markdown",
   "metadata": {},
   "source": [
    "## 1 IMPORTAÇÃO DOS DADOS"
   ]
  },
  {
   "cell_type": "code",
   "execution_count": 120,
   "metadata": {},
   "outputs": [],
   "source": [
    "import pandas as pd\n",
    "import numpy as nps\n",
    "\n",
    "dataset='random'\n",
    "balancing=''\n",
    "df = pd.read_csv(f'./../4_METRICS/8_output_merge3/{dataset}/datasetClass_with_foc_pmd_email_ss.csv')\n",
    "pd.set_option('display.max_rows', None)\n",
    "pd.set_option('display.max_columns', None)\n",
    "pd.set_option('display.width', None)"
   ]
  },
  {
   "cell_type": "markdown",
   "metadata": {},
   "source": [
    "## 2 PREPROCESSAMENTO DOS DADOS"
   ]
  },
  {
   "cell_type": "code",
   "execution_count": null,
   "metadata": {},
   "outputs": [],
   "source": []
  },
  {
   "cell_type": "markdown",
   "metadata": {},
   "source": [
    "#### 2.1 Dados ausentes ou corrompidos"
   ]
  },
  {
   "cell_type": "markdown",
   "metadata": {},
   "source": [
    "- Atribuir média para NaN ou valores faltosos em classMetric_type"
   ]
  },
  {
   "cell_type": "code",
   "execution_count": 121,
   "metadata": {},
   "outputs": [
    {
     "data": {
      "text/plain": [
       "count    4883.000000\n",
       "mean        0.238298\n",
       "std         0.339564\n",
       "min         0.000000\n",
       "25%         0.000000\n",
       "50%         0.000000\n",
       "75%         0.533333\n",
       "max         1.000000\n",
       "Name: classMetric_lcom*, dtype: float64"
      ]
     },
     "execution_count": 121,
     "metadata": {},
     "output_type": "execute_result"
    }
   ],
   "source": [
    "df['classMetric_lcom*'].describe()"
   ]
  },
  {
   "cell_type": "code",
   "execution_count": 122,
   "metadata": {},
   "outputs": [
    {
     "data": {
      "text/plain": [
       "1037    1.000000\n",
       "3130    1.000000\n",
       "965     1.000000\n",
       "4096    1.000000\n",
       "4087    1.000000\n",
       "1584    1.000000\n",
       "1397    1.000000\n",
       "1255    1.000000\n",
       "1269    1.000000\n",
       "654     1.000000\n",
       "1535    1.000000\n",
       "3122    1.000000\n",
       "657     1.000000\n",
       "1516    1.000000\n",
       "1146    1.000000\n",
       "347     1.000000\n",
       "3123    1.000000\n",
       "1514    1.000000\n",
       "1473    1.000000\n",
       "1291    1.000000\n",
       "3396    1.000000\n",
       "3933    1.000000\n",
       "2403    1.000000\n",
       "3180    1.000000\n",
       "950     1.000000\n",
       "4067    1.000000\n",
       "1461    1.000000\n",
       "1305    1.000000\n",
       "3911    1.000000\n",
       "3913    1.000000\n",
       "3131    1.000000\n",
       "3932    1.000000\n",
       "1319    1.000000\n",
       "1125    1.000000\n",
       "3914    1.000000\n",
       "4070    1.000000\n",
       "1241    1.000000\n",
       "3930    1.000000\n",
       "1762    1.000000\n",
       "3081    0.991803\n",
       "954     0.991525\n",
       "971     0.991525\n",
       "532     0.990196\n",
       "530     0.990000\n",
       "222     0.985760\n",
       "180     0.985760\n",
       "4177    0.983740\n",
       "4165    0.983539\n",
       "285     0.983539\n",
       "301     0.983539\n",
       "Name: classMetric_lcom*, dtype: float64"
      ]
     },
     "execution_count": 122,
     "metadata": {},
     "output_type": "execute_result"
    }
   ],
   "source": [
    "df['classMetric_lcom*'] = df['classMetric_lcom*'].fillna(df['classMetric_lcom*'].mean())\n",
    "\n",
    "# plt.hist(df['classMetric_lcom*'], bins=\n",
    "df['classMetric_lcom*'].sort_values(ascending=False).head(50)"
   ]
  },
  {
   "cell_type": "markdown",
   "metadata": {},
   "source": [
    "- Modifiers trocar -1 por 0, o dado -1 indica que não conseguiu computar, por esse motivo decidimos transformar -1 em 0."
   ]
  },
  {
   "cell_type": "code",
   "execution_count": 123,
   "metadata": {},
   "outputs": [],
   "source": [
    "\n",
    "df['classMetric_modifiers'] = df['classMetric_modifiers'].apply(lambda x: 0 if x == -1 else x)\n",
    "\n",
    "# display(df['classMetric_modifiers'].value_counts())\n",
    "# display(df)"
   ]
  },
  {
   "cell_type": "markdown",
   "metadata": {},
   "source": [
    "#### 2.3 Dados Categóricos"
   ]
  },
  {
   "cell_type": "markdown",
   "metadata": {},
   "source": [
    "- Aplicar Aplicar One-Hot Encoding na coluna operation(operações refatoração) e classMetric_type(tipo de dado)"
   ]
  },
  {
   "cell_type": "code",
   "execution_count": 124,
   "metadata": {},
   "outputs": [],
   "source": [
    "df['operations2'] = df['operation'].apply(lambda x: x.replace(\"[\",'').replace(\"]\",'').replace(\"'\",'').replace(\", \",','))\n",
    "df_encoded = df['operations2'].str.get_dummies(',')\n",
    "df = pd.concat([df,df_encoded],axis=1)\n",
    "\n",
    "df_types = pd.get_dummies(df['classMetric_type'], prefix='type')\n",
    "df = pd.concat([df,df_types],axis=1)\n",
    "\n",
    "# encoding_dic = {'enum':0,'anonymous': 1, 'innerclass':2, 'class':3,'interface':4 }\n",
    "# df['classMetric_type'] = df['classMetric_type'].map(encoding_dic)"
   ]
  },
  {
   "cell_type": "markdown",
   "metadata": {},
   "source": [
    "#### 2.4 Engenharia de Features"
   ]
  },
  {
   "cell_type": "markdown",
   "metadata": {},
   "source": [
    "- Calcular LOCC - diferença de linhas alteradas depois da refatoração. "
   ]
  },
  {
   "cell_type": "code",
   "execution_count": 125,
   "metadata": {},
   "outputs": [],
   "source": [
    "\n",
    "def calculate_locc(row, df):\n",
    "    if row['refactored'] == 1:\n",
    "        # Encontra a linha anterior com o mesmo 'classMetric_class' e 'refactored' igual a 0\n",
    "        previous_rows = df[(df['classMetric_class'] == row['classMetric_class']) & (df['refactored'] == 0) & (df.index < row.name)]\n",
    "        previous_loc = previous_rows.iloc[-1]['classMetric_loc'] if not previous_rows.empty else 0\n",
    "        row['locc'] = row['classMetric_loc'] - previous_loc\n",
    "    else:\n",
    "        row['locc'] = 0\n",
    "    return row\n",
    "\n",
    "# Aplica a função calculate_locc para cada grupo e cria a nova coluna \n",
    "# aux=[]\n",
    "df = df.apply(calculate_locc, args=(df,), axis=1)\n",
    "\n",
    "# display(aux[[ 'classMetric_class','refactored','classMetric_loc','locc']].tail(20))"
   ]
  },
  {
   "cell_type": "markdown",
   "metadata": {},
   "source": [
    "- Calcular Diff McCabe's complexity, Métrica DCC"
   ]
  },
  {
   "cell_type": "code",
   "execution_count": 126,
   "metadata": {},
   "outputs": [],
   "source": [
    "\n",
    "def calculate_dcc(row, df):\n",
    "    if row['refactored'] == 1:\n",
    "        # Encontra a linha anterior com o mesmo 'classMetric_class' e 'refactored' igual a 0\n",
    "        previous_rows = df[(df['classMetric_class'] == row['classMetric_class']) & (df['refactored'] == 0) & (df.index < row.name)]\n",
    "        previous_loc = previous_rows.iloc[-1]['classMetric_wmc'] if not previous_rows.empty else 0\n",
    "        row['dcc'] = row['classMetric_wmc'] - previous_loc\n",
    "    else:\n",
    "        row['dcc'] = 0\n",
    "    return row\n",
    "\n",
    "# Aplica a função calculate_locc para cada grupo e cria a nova coluna \n",
    "df = df.apply(calculate_dcc, args=(df,), axis=1)"
   ]
  },
  {
   "cell_type": "markdown",
   "metadata": {},
   "source": [
    "- Configurar Score de Similaridade antes da refatoracao"
   ]
  },
  {
   "cell_type": "code",
   "execution_count": 127,
   "metadata": {},
   "outputs": [],
   "source": [
    "df.loc[df['refactored'] == 0, 'ss'] = 0"
   ]
  },
  {
   "cell_type": "markdown",
   "metadata": {},
   "source": [
    "- Remover colunas que não serão usadas ou que já foram processadas"
   ]
  },
  {
   "cell_type": "code",
   "execution_count": 128,
   "metadata": {},
   "outputs": [],
   "source": [
    "df = df.drop(columns=['commit','operation','operations2','project','classMetric_file','classMetric_file2','file','file2','classMetric_class','classMetric_synchronizedFieldsQty','classMetric_type','classMetric_cbo','classMetric_lcom','classMetric_file','classMetric_tcc','classMetric_lcc','cs_before','cs_after','issues_after','issues_before','emails'])"
   ]
  },
  {
   "cell_type": "code",
   "execution_count": 129,
   "metadata": {},
   "outputs": [
    {
     "data": {
      "text/plain": [
       "<bound method IndexOpsMixin.value_counts of Index(['refactored', 'classMetric_cboModified', 'classMetric_fanin',\n",
       "       'classMetric_fanout', 'classMetric_wmc', 'classMetric_dit',\n",
       "       'classMetric_noc', 'classMetric_rfc', 'classMetric_lcom*',\n",
       "       'classMetric_totalMethodsQty',\n",
       "       ...\n",
       "       'Split Class', 'Split Package', 'Split Parameter', 'type_anonymous',\n",
       "       'type_class', 'type_enum', 'type_innerclass', 'type_interface', 'locc',\n",
       "       'dcc'],\n",
       "      dtype='object', length=147)>"
      ]
     },
     "execution_count": 129,
     "metadata": {},
     "output_type": "execute_result"
    }
   ],
   "source": [
    "df.columns.value_counts"
   ]
  },
  {
   "cell_type": "markdown",
   "metadata": {},
   "source": [
    "- [ Remover 13 por sugestões de desenvolvedores ] mas 'classMetric_Path of Class' já foram removidas antes 'File Type' então 11,"
   ]
  },
  {
   "cell_type": "code",
   "execution_count": 130,
   "metadata": {},
   "outputs": [],
   "source": [
    "# df = df.drop(columns=['classMetric_nosi', 'classMetric_rfc','classMetric_returnQty','classMetric_parenthesizedExpsQty','classMetric_stringLiteralsQty', 'classMetric_numbersQty', 'classMetric_mathOperationsQty',\t'classMetric_innerClassesQty',\t'classMetric_uniqueWordsQty', 'classMetric_logStatementsQty', 'classMetric_modifiers'])"
   ]
  },
  {
   "cell_type": "code",
   "execution_count": 131,
   "metadata": {},
   "outputs": [],
   "source": [
    "# from sklearn.preprocessing import MinMaxScaler,StandardScaler,RobustScaler,Normalizer\n",
    "# from numpy import log1p\n",
    "# scaler = Normalizer()\n",
    "# scaler = MinMaxScaler((0,1))\n",
    "\n",
    "# df[column] = scaler.fit_transform(df[[column]])\n",
    "# df[column] = df[column].round(1)\n",
    "# column='classMetric_cboModified'\n",
    "# df[column] = np.log1p(df[column])"
   ]
  },
  {
   "cell_type": "code",
   "execution_count": 132,
   "metadata": {},
   "outputs": [],
   "source": [
    "#reduzir outliers\n",
    "\n",
    "# colunas = df.iloc[:,:50]  # Para todas as colunas, ou especifique uma lista de colunas\n",
    "# def outlier():\n",
    "#     colunas = df.iloc[:,1:52].columns\n",
    "#     for coluna in colunas:\n",
    "#         Q1 = df[coluna].quantile(0.25)\n",
    "#         Q3 = df[coluna].quantile(0.75)\n",
    "#         IQR = Q3 - Q1\n",
    "#         limite_inferior = Q1 - 1.5 * IQR\n",
    "#         limite_superior = Q3 + 1.5 * IQR\n",
    "#         # df = df[(df[coluna] < limite_inferior) | (df[coluna] > limite_superior)]\n",
    "#         # df = df[(df[coluna] >= limite_inferior) & (df[coluna] <= limite_superior)]\n",
    "#             # Ajustando os outliers para o limite superior\n",
    "#         df[coluna] = df[coluna].apply(lambda x: limite_superior if x > limite_superior else x)\n",
    "#         df[coluna] = df[coluna].apply(lambda x: limite_inferior if x < limite_superior else x)\n",
    "\n",
    "# outlier()"
   ]
  },
  {
   "cell_type": "markdown",
   "metadata": {},
   "source": [
    "- Calcular Index"
   ]
  },
  {
   "cell_type": "code",
   "execution_count": 133,
   "metadata": {},
   "outputs": [],
   "source": [
    "#STEP 1 - Normalizar features para escala 0-1\n",
    "def scaleMM(df, column, inverse=False):\n",
    "\n",
    "    min_val = df[column].min()\n",
    "    max_val = df[column].max()\n",
    "    aux = df[column]\n",
    "\n",
    "    # menorMelhor\n",
    "    if inverse:\n",
    "        scaled_column = df[column].apply(\n",
    "            lambda x: (max_val - x) / (max_val - min_val))\n",
    "    # maiorMelhor\n",
    "    else:\n",
    "        scaled_column = df[column].apply(\n",
    "            lambda x: (x - min_val) / (max_val - min_val))\n",
    "\n",
    "    return scaled_column\n",
    "\n",
    "\n",
    "dfForIndex = pd.DataFrame()\n",
    "for column in df.columns:\n",
    "\n",
    "    # retornar escala no scaleMM quando MAIOR É MELHOR\n",
    "    if column in [\n",
    "        'classMetric_noc',\n",
    "        'classMetric_nosi',\n",
    "        'classMetric_totalFieldsQty',\n",
    "        'classMetric_totalMethodsQty', \n",
    "        'classMetric_variablesQty',\n",
    "        'classMetric_defaultFieldsQty',\n",
    "        'classMetric_staticFieldsQty', 'classMetric_publicFieldsQty',\n",
    "        'classMetric_privateFieldsQty', 'classMetric_protectedFieldsQty',\n",
    "        'classMetric_staticMethodsQty',\n",
    "        'classMetric_publicMethodsQty', 'classMetric_privateMethodsQty',\n",
    "        'classMetric_protectedMethodsQty', 'classMetric_defaultMethodsQty',\n",
    "        'classMetric_visibleMethodsQty', 'classMetric_abstractMethodsQty',\n",
    "        'classMetric_finalMethodsQty', 'classMetric_finalFieldsQty', \n",
    "        'classMetric_uniqueWordsQty',\n",
    "        'classMetric_mathOperationsQty',\n",
    "        'classMetric_modifiers',\n",
    "        'classMetric_assignmentsQty',\n",
    "        'classMetric_logStatementsQty', \n",
    "        'foc7', 'foc14', 'foc21', 'foc28'\n",
    "        ]:\n",
    "        dfForIndex = pd.concat([dfForIndex, scaleMM(df, column)], axis=1)\n",
    "\n",
    "    elif column in ['classMetric_cboModified',\n",
    "                    'classMetric_fanin',\n",
    "                    'classMetric_fanout',\n",
    "                    'classMetric_dit',\n",
    "                    'classMetric_rfc',\n",
    "                    'classMetric_wmc',\n",
    "                    'classMetric_loc',\n",
    "                    'classMetric_lcom*',\n",
    "                    'classMetric_returnQty',\n",
    "                    'classMetric_comparisonsQty',\n",
    "                    'classMetric_tryCatchQty',\n",
    "                    'classMetric_stringLiteralsQty',\n",
    "                    'classMetric_maxNestedBlocksQty',\n",
    "                    'classMetric_anonymousClassesQty',\n",
    "                    'classMetric_innerClassesQty',\n",
    "                    'classMetric_lambdasQty',\n",
    "                    'classMetric_synchronizedMethodsQty',\n",
    "                    'classMetric_parenthesizedExpsQty',\n",
    "                    'classMetric_loopQty',\n",
    "                    'classMetric_numbersQty',\n",
    "                    'cs', 'issues', 'locc', 'dcc'\n",
    "                    ]:\n",
    "        dfForIndex = pd.concat([dfForIndex, scaleMM(df, column, True)], axis=1)\n",
    "\n",
    "    else:\n",
    "        pass\n",
    "\n",
    "\n",
    "#adicionar coluna 'ss' do df no dfForIndex para contabilizar no cálculo do aspecto complexidade\n",
    "dfForIndex['ss'] = df['ss']\n",
    "dfForIndex = dfForIndex.fillna(0)\n"
   ]
  },
  {
   "cell_type": "code",
   "execution_count": 134,
   "metadata": {},
   "outputs": [
    {
     "name": "stdout",
     "output_type": "stream",
     "text": [
      "Aspecto Risk: 0.31197752853440947 - 0.9775819437026487\n",
      "Aspecto Speed: 3.1497614982564445e-06 - 0.9628294036061027\n",
      "Aspecto Complexity: 0.3464934305558487 - 0.539561132500894\n",
      "Index: 0.2570131790078461 - 0.8016825115157035\n"
     ]
    }
   ],
   "source": [
    "#STEP 2 - Calcular index por aspectos \n",
    "#  dfForIndex[['classMetric_noc']].sort_values(by='classMetric_noc', ascending=False)\n",
    "from sklearn.preprocessing import MinMaxScaler\n",
    "\n",
    "\n",
    "a_risk_list = []\n",
    "a_speed_list = []\n",
    "a_complexity_list = []\n",
    "\n",
    "\n",
    "\n",
    "for index, row in dfForIndex.iterrows():\n",
    "    sum_complexity=0\n",
    "    sum_speed=0\n",
    "    sum_risk=0\n",
    "    for column in dfForIndex.columns:\n",
    "        if column in ['dcc', 'cs', 'issues']:\n",
    "            sum_risk += row[column]\n",
    "        elif column in ['locc','foc7', 'foc14', 'foc21', 'foc28']:\n",
    "            sum_speed += row[column]\n",
    "        else:\n",
    "            sum_complexity += row[column]\n",
    "    a_risk = sum_risk/3;\n",
    "    a_risk_list.append(a_risk)\n",
    "    a_speed = sum_speed/5;\n",
    "    a_speed_list.append(a_speed)\n",
    "    a_complexity = sum_complexity/(len(dfForIndex.columns)-8)\n",
    "    a_complexity_list.append(a_complexity)\n",
    "\n",
    "\n",
    "\n",
    "\n",
    "dfForIndex['a_risk'] = a_risk_list\n",
    "dfForIndex['a_speed'] = a_speed_list\n",
    "dfForIndex['a_complexity'] = a_complexity_list\n",
    "dfForIndex['index'] = (dfForIndex['a_risk'] + dfForIndex['a_speed'] + dfForIndex['a_complexity'])/3\n",
    "\n",
    "\n",
    "# # imprimir min e max de cada aspecto e do index\n",
    "print('Aspecto Risk:', dfForIndex['a_risk'].min(), '-', dfForIndex['a_risk'].max())\n",
    "print('Aspecto Speed:', dfForIndex['a_speed'].min(), '-', dfForIndex['a_speed'].max())\n",
    "print('Aspecto Complexity:', dfForIndex['a_complexity'].min(), '-', dfForIndex['a_complexity'].max()) # max aumentou com a sintetização das colunas de metodos e fields.\n",
    "print('Index:', dfForIndex['index'].min(), '-', dfForIndex['index'].max())\n",
    "\n",
    "\n",
    "# Convertendo o array numpy de volta para um DataFrame e atualizando as colunas originais\n",
    "#remove aspectos\n",
    "dfForIndex = dfForIndex.drop(columns=['a_risk','a_speed','a_complexity'])\n",
    "\n"
   ]
  },
  {
   "cell_type": "code",
   "execution_count": 135,
   "metadata": {},
   "outputs": [
    {
     "data": {
      "image/png": "[encoded data removed]",
      "text/plain": [
       "<Figure size 1000x800 with 8 Axes>"
      ]
     },
     "metadata": {},
     "output_type": "display_data"
    }
   ],
   "source": [
    "\n",
    "import matplotlib.pyplot as plt\n",
    "import seaborn as sns\n",
    "\n",
    "# plt.hist(dfForIndex['index'], bins=10)\n",
    "# exbir dispersão dos dados\n",
    "\n",
    "plt.figure(figsize=(10, 8)) \n",
    "\n",
    "colunas = ['foc7','foc14','foc21','foc28','cs','issues','ss', 'index'] \n",
    "for i, coluna in enumerate(colunas):\n",
    "    plt.subplot(5, 3, i+1)\n",
    "    # sns.boxplot(x=df[coluna], orient='h')\n",
    "    sns.histplot(dfForIndex[coluna], kde=True)\n",
    "    plt.title(coluna)\n",
    "plt.tight_layout()\n",
    "plt.show()"
   ]
  },
  {
   "cell_type": "code",
   "execution_count": 136,
   "metadata": {},
   "outputs": [
    {
     "name": "stderr",
     "output_type": "stream",
     "text": [
      "dist_matrix: 100%|##########| 198/198 [00:09<00:00, 20.57it/s]\n",
      "synth_matrix: 100%|##########| 198/198 [00:03<00:00, 63.09it/s]\n",
      "r_index: 100%|##########| 83/83 [00:00<00:00, 720.07it/s]\n"
     ]
    },
    {
     "data": {
      "image/png": "[encoded data removed]",
      "text/plain": [
       "<Figure size 1000x800 with 8 Axes>"
      ]
     },
     "metadata": {},
     "output_type": "display_data"
    }
   ],
   "source": [
    "import smogn\n",
    "#https://proceedings.mlr.press/v74/branco17a/branco17a.pdf\n",
    "\n",
    "dfForIndex = smogn.smoter(data = dfForIndex, y = 'index' )\n",
    "balancing = '-smogn'\n",
    "\n",
    "\n",
    "plt.figure(figsize=(10, 8)) \n",
    "\n",
    "colunas = ['foc7','foc14','foc21','foc28','cs','issues','ss', 'index'] \n",
    "for i, coluna in enumerate(colunas):\n",
    "    plt.subplot(5, 3, i+1)\n",
    "    # sns.boxplot(x=df[coluna], orient='h')\n",
    "    sns.histplot(dfForIndex[coluna], kde=True)\n",
    "    plt.title(coluna)\n",
    "plt.tight_layout()\n",
    "plt.show()\n",
    "\n"
   ]
  },
  {
   "cell_type": "code",
   "execution_count": 137,
   "metadata": {},
   "outputs": [],
   "source": [
    "# Adicionar outras colunas binárias\n",
    "features_operation = [\n",
    "    'refactored',\n",
    "    'Add Attribute Annotation', 'Add Attribute Modifier',\n",
    "    'Add Class Annotation', 'Add Class Modifier',\n",
    "    'Add Method Annotation', 'Add Method Modifier', 'Add Parameter',\n",
    "    'Add Parameter Annotation', 'Add Parameter Modifier',\n",
    "    'Add Thrown Exception Type', 'Add Variable Modifier',\n",
    "    'Change Attribute Access Modifier', 'Change Attribute Type',\n",
    "    'Change Class Access Modifier', 'Change Method Access Modifier',\n",
    "    'Change Parameter Type', 'Change Return Type',\n",
    "    'Change Thrown Exception Type', 'Change Type Declaration Kind',\n",
    "    'Change Variable Type', 'Collapse Hierarchy',\n",
    "    'Encapsulate Attribute', 'Extract And Move Method',\n",
    "    'Extract Attribute', 'Extract Class', 'Extract Interface',\n",
    "    'Extract Method', 'Extract Subclass', 'Extract Superclass',\n",
    "    'Extract Variable', 'Inline Method', 'Inline Variable',\n",
    "    'Invert Condition', 'Localize Parameter', 'Merge Attribute',\n",
    "    'Merge Catch', 'Merge Class', 'Merge Conditional', 'Merge Package',\n",
    "    'Merge Parameter', 'Merge Variable', 'Modify Attribute Annotation',\n",
    "    'Modify Class Annotation', 'Modify Method Annotation',\n",
    "    'Move And Inline Method', 'Move And Rename Attribute',\n",
    "    'Move And Rename Class', 'Move And Rename Method',\n",
    "    'Move Attribute', 'Move Class', 'Move Code', 'Move Method',\n",
    "    'Move Package', 'Move Source Folder', 'Parameterize Attribute',\n",
    "    'Parameterize Variable', 'Pull Up Attribute', 'Pull Up Method',\n",
    "    'Push Down Attribute', 'Push Down Method',\n",
    "    'Remove Attribute Annotation', 'Remove Attribute Modifier',\n",
    "    'Remove Class Annotation', 'Remove Class Modifier',\n",
    "    'Remove Method Annotation', 'Remove Method Modifier',\n",
    "    'Remove Parameter', 'Remove Parameter Annotation',\n",
    "    'Remove Parameter Modifier', 'Remove Thrown Exception Type',\n",
    "    'Remove Variable Modifier', 'Rename Attribute', 'Rename Class',\n",
    "    'Rename Method', 'Rename Package', 'Rename Parameter',\n",
    "    'Rename Variable', 'Reorder Parameter',\n",
    "    'Replace Anonymous With Class', 'Replace Anonymous With Lambda',\n",
    "    'Replace Attribute', 'Replace Attribute With Variable',\n",
    "    'Replace Loop With Pipeline', 'Replace Variable With Attribute',\n",
    "    'Split Attribute', 'Split Class', 'Split Package',\n",
    "    'Split Parameter'\n",
    "]\n",
    "\n",
    "for column in df.columns:\n",
    "    if column in features_operation:\n",
    "        dfForIndex[column] = df[column]\n",
    "# Atribuir 0 para as colunas especificadas onde refactored é 0\n",
    "dfForIndex.loc[dfForIndex['refactored'] == 0, features_operation] = 0"
   ]
  },
  {
   "cell_type": "markdown",
   "metadata": {},
   "source": [
    "### Grafico de caixa - box plot"
   ]
  },
  {
   "cell_type": "code",
   "execution_count": 138,
   "metadata": {},
   "outputs": [],
   "source": [
    "# import seaborn as sns\n",
    "# import matplotlib.pyplot as plt\n",
    "\n",
    "# Box plot usando seaborn\n",
    "# plt.figure(figsize=(7, 6))\n",
    "# sns.boxplot(data=dfForIndex[['dcc']], orient='h')\n",
    "# sns.boxplot(data=dfForIndex[['cs']], orient='h')\n",
    "# sns.boxplot(data=dfForIndex[['issues']], orient='h')\n",
    "# plt.title('Box Plot of Features')\n",
    "# plt.show()"
   ]
  },
  {
   "cell_type": "code",
   "execution_count": 139,
   "metadata": {},
   "outputs": [],
   "source": [
    "# Histograma usando seaborn\n",
    "# sns.histplot(dfForIndex['a_complexity'], bins=10, color='blue', alpha=0.7)\n",
    "# sns.histplot(dfForIndex['a_risk'], bins=10, color='red', alpha=0.7)\n",
    "# plt.title('Histogram using Seaborn')\n",
    "# plt.show()"
   ]
  },
  {
   "cell_type": "code",
   "execution_count": 140,
   "metadata": {},
   "outputs": [],
   "source": [
    "# sns.scatterplot(data=dfForIndex, x='a_complexity', y='a_complexity', color='red')\n",
    "# plt.title('Scatter Plot using Seaborn')\n",
    "# plt.show()"
   ]
  },
  {
   "cell_type": "code",
   "execution_count": 141,
   "metadata": {},
   "outputs": [
    {
     "name": "stdout",
     "output_type": "stream",
     "text": [
      "(4721, 143)\n",
      "<class 'pandas.core.frame.DataFrame'>\n",
      "Index: 4721 entries, 0 to 4919\n",
      "Columns: 143 entries, classMetric_cboModified to Split Parameter\n",
      "dtypes: float64(54), int64(89)\n",
      "memory usage: 5.2 MB\n",
      "None\n"
     ]
    }
   ],
   "source": [
    "#Verificando se ainda tem NaN\n",
    "for column in dfForIndex.columns:\n",
    "    if dfForIndex[column].isnull().sum() > 0:\n",
    "        print(column)\n",
    "\n",
    "print(dfForIndex.shape)\n",
    "\n",
    "# Verificar informações gerais do dataset\n",
    "print(dfForIndex.info())\n",
    "\n",
    "# Estatísticas descritivas\n",
    "# print(dfForIndex.describe())"
   ]
  },
  {
   "cell_type": "markdown",
   "metadata": {},
   "source": [
    "## Treinamento do modelo"
   ]
  },
  {
   "cell_type": "code",
   "execution_count": 142,
   "metadata": {},
   "outputs": [],
   "source": [
    "from sklearn.discriminant_analysis import StandardScaler\n",
    "from sklearn.model_selection import train_test_split\n",
    "import numpy as np\n",
    "\n",
    "\n",
    "#1 - PREPARAR DADOS - X e y\n",
    "# dfForIndex = dfForIndex.sample(frac=1, random_state=42).reset_index(drop=True)\n",
    "\n",
    "\n",
    "\n",
    "\n",
    "dfForIndex = dfForIndex.astype(float).round(2)\n",
    "x = dfForIndex.drop(columns=['index'], axis=1)\n",
    "y = dfForIndex['index']\n",
    "\n",
    "#2 - DIVIDIR DADOS - TREINO E TESTE\n",
    "x_train, x_test, y_train, y_test = train_test_split(x, y, test_size=0.2, random_state=42)"
   ]
  },
  {
   "cell_type": "code",
   "execution_count": 143,
   "metadata": {},
   "outputs": [],
   "source": [
    "import numpy as np\n",
    "from sklearn.metrics import r2_score\n",
    "\n",
    "\n",
    "def mape(y_test, y_pred): \n",
    "    return np.mean(np.abs((y_test - y_pred) / y_test)) * 100\n",
    "\n",
    "def adjusted_r2(y_test, y_pred,X_train):\n",
    "  adj_r2 = (1 - ((1 - r2_score(y_test, y_pred)) * (len(y_test) - 1)) / (len(y_test) - X_train.shape[1] - 1))\n",
    "  return adj_r2"
   ]
  },
  {
   "cell_type": "code",
   "execution_count": 144,
   "metadata": {},
   "outputs": [],
   "source": [
    "from joblib import load\n",
    "import json\n",
    "from sklearn.tree import DecisionTreeRegressor\n",
    "from sklearn.ensemble import RandomForestRegressor, GradientBoostingRegressor\n",
    "from xgboost import XGBRegressor \n",
    "from sklearn.linear_model import LinearRegression, Lasso, Ridge, ElasticNet\n",
    "\n",
    "def salvar_resultados(modelo, resultados):\n",
    "    caminho_arquivo = f'./modelosFull/smong/resultados-{dataset}-{modelo}-smogn.json'  # Define o caminho do arquivo de resultados\n",
    "    with open(caminho_arquivo, 'r') as arquivo:\n",
    "        dados_existentes = json.load(arquivo)\n",
    "\n",
    "    novos_dados=[]\n",
    "    novos_dados.append(dados_existentes)\n",
    "    novos_dados.append(resultados)\n",
    "\n",
    "    with open(caminho_arquivo, 'w') as arquivo:\n",
    "        json.dump(novos_dados, arquivo, indent=4)\n",
    "\n",
    "# Substitua 'caminho/do/modelo.pkl' pelo caminho do seu arquivo de modelo\n",
    "modelos = ['DecisionTreeRegressor', 'ElasticNet', 'GradientBoostingRegressor', 'Lasso', 'LinearRegression', 'RandomForestRegressor', 'Ridge','XGBRegressor']\n",
    "for modelo in modelos:\n",
    "    resultados = {}\n",
    "    try:\n",
    "        with open(f'./modelosFull/smong/modelo-{dataset}-{modelo}-smogn.pkl', 'rb') as file:\n",
    "            modeloTreinado = load(file)\n",
    "        y_pred = modeloTreinado.predict(x_test)\n",
    "        mape_result = mape(y_test, y_pred)\n",
    "        r2adj = adjusted_r2(y_test, y_pred, x_train)\n",
    "        resultados = {'mape': mape_result, 'r2_ajustado': r2adj}\n",
    "        salvar_resultados(modelo, resultados)\n",
    "    except FileNotFoundError:\n",
    "        print(f'Arquivo ./modelos/{dataset}/modelo-{dataset}-{modelo}-smong.pkl não encontrado')       \n",
    "\n",
    "    "
   ]
  },
  {
   "cell_type": "markdown",
   "metadata": {},
   "source": []
  },
  {
   "cell_type": "code",
   "execution_count": 28,
   "metadata": {},
   "outputs": [
    {
     "name": "stdout",
     "output_type": "stream",
     "text": [
      "0.0032\n",
      "0.0564\n",
      "0.0273\n",
      "4.3312\n",
      "0.8792\n",
      "0.8596\n",
      "0.0032\n",
      "0.0565\n",
      "0.0265\n",
      "4.1952\n",
      "0.8785\n",
      "0.8592\n",
      "0.0047\n",
      "0.0688\n",
      "0.0318\n",
      "5.3722\n",
      "0.8199\n",
      "0.7860\n",
      "0.0012\n",
      "0.0350\n",
      "0.0084\n",
      "1.2251\n",
      "0.9535\n",
      "0.9526\n",
      "0.0008\n",
      "0.0285\n",
      "0.0075\n",
      "1.0637\n",
      "0.9691\n",
      "0.9610\n",
      "0.0008\n",
      "0.0275\n",
      "0.0085\n",
      "1.3346\n",
      "0.9713\n",
      "0.9590\n",
      "0.0008\n",
      "0.0281\n",
      "0.0087\n",
      "1.2676\n",
      "0.9700\n",
      "0.9599\n"
     ]
    }
   ],
   "source": [
    "import json\n",
    "\n",
    "modelos = ['LinearRegression','Ridge','ElasticNet','DecisionTreeRegressor', 'RandomForestRegressor', 'GradientBoostingRegressor', 'XGBRegressor']\n",
    "i=0\n",
    "dataset='random'        \n",
    "for i in range(len(modelos)):\n",
    "        try:\n",
    "                with open(f'./modelos/{dataset}/resultados-{dataset}-{modelos[i]}-smogn.json', 'r') as file:\n",
    "                        result = json.load(file)\n",
    "                        \n",
    "                        # print(f\"DATASET: {dataset}\")\n",
    "                        print(\n",
    "                                # f\"modelo: {modelos[i]}\\n\"\n",
    "                             f\"{result[0]['MSE']:.4f}\\n\"\n",
    "                             f\"{result[0]['RMSE']:.4f}\\n\"\n",
    "                             f\"{result[0]['MAE']:.4f}\\n\"\n",
    "                             f\"{result[1]['mape']:.4f}\\n\"\n",
    "                             f\"{result[0]['R2']:.4f}\\n\"\n",
    "                             f\"{result[1]['r2_ajustado']:.4f}\")\n",
    "                        # print(f\"modelo: {modelos[i]}\\n\"\n",
    "                        #      f\"MSE:    {result[0]['MSE']:.4f}\\n\"\n",
    "                        #      f\"RMSE:   {result[0]['RMSE']:.4f}\\n\"\n",
    "                        #      f\"MAE:    {result[0]['MAE']:.4f}\\n\"\n",
    "                        #      f\"MAPE:   {result[1]['mape']:.4f}\\n\"\n",
    "                        #      f\"R2:     {result[0]['R2']:.4f}\\n\"\n",
    "                        #      f\"R2A:    {result[1]['r2_ajustado']:.4f}\")\n",
    "\n",
    "        except FileNotFoundError:\n",
    "                print(f'Arquivo ./modelos/{dataset}/modelo-{dataset}-{modelo}-smong.pkl não encontrado')       \n"
   ]
  },
  {
   "cell_type": "code",
   "execution_count": null,
   "metadata": {},
   "outputs": [],
   "source": []
  }
 ],
 "metadata": {
  "kernelspec": {
   "display_name": "Python 3",
   "language": "python",
   "name": "python3"
  },
  "language_info": {
   "codemirror_mode": {
    "name": "ipython",
    "version": 3
   },
   "file_extension": ".py",
   "mimetype": "text/x-python",
   "name": "python",
   "nbconvert_exporter": "python",
   "pygments_lexer": "ipython3",
   "version": "3.12.1"
  }
 },
 "nbformat": 4,
 "nbformat_minor": 2
}
